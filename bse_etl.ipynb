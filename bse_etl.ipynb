{
 "cells": [
  {
   "cell_type": "markdown",
   "metadata": {},
   "source": [
    "ETL using BSE api and loading to mysql  \n"
   ]
  },
  {
   "cell_type": "code",
   "execution_count": 1,
   "metadata": {},
   "outputs": [
    {
     "data": {
      "text/html": [
       "<div>\n",
       "<style scoped>\n",
       "    .dataframe tbody tr th:only-of-type {\n",
       "        vertical-align: middle;\n",
       "    }\n",
       "\n",
       "    .dataframe tbody tr th {\n",
       "        vertical-align: top;\n",
       "    }\n",
       "\n",
       "    .dataframe thead th {\n",
       "        text-align: right;\n",
       "    }\n",
       "</style>\n",
       "<table border=\"1\" class=\"dataframe\">\n",
       "  <thead>\n",
       "    <tr style=\"text-align: right;\">\n",
       "      <th></th>\n",
       "      <th>Security Code</th>\n",
       "      <th>Issuer Name</th>\n",
       "      <th>Security Id</th>\n",
       "      <th>Security Name</th>\n",
       "      <th>Status</th>\n",
       "      <th>Group</th>\n",
       "      <th>Face Value</th>\n",
       "      <th>ISIN No</th>\n",
       "      <th>Industry</th>\n",
       "      <th>Instrument</th>\n",
       "      <th>Sector Name</th>\n",
       "      <th>Industry New Name</th>\n",
       "      <th>Igroup Name</th>\n",
       "      <th>ISubgroup Name</th>\n",
       "    </tr>\n",
       "  </thead>\n",
       "  <tbody>\n",
       "    <tr>\n",
       "      <th>0</th>\n",
       "      <td>500002</td>\n",
       "      <td>ABB India Limited</td>\n",
       "      <td>ABB</td>\n",
       "      <td>ABB India Limited</td>\n",
       "      <td>Active</td>\n",
       "      <td>A</td>\n",
       "      <td>2.0</td>\n",
       "      <td>INE117A01022</td>\n",
       "      <td>Heavy Electrical Equipment</td>\n",
       "      <td>Equity</td>\n",
       "      <td>Industrials</td>\n",
       "      <td>Capital Goods</td>\n",
       "      <td>Electrical Equipment</td>\n",
       "      <td>Heavy Electrical Equipment</td>\n",
       "    </tr>\n",
       "    <tr>\n",
       "      <th>1</th>\n",
       "      <td>500003</td>\n",
       "      <td>Aegis Logistics Ltd.</td>\n",
       "      <td>AEGISLOG</td>\n",
       "      <td>AEGIS LOGISTICS LTD.</td>\n",
       "      <td>Active</td>\n",
       "      <td>A</td>\n",
       "      <td>1.0</td>\n",
       "      <td>INE208C01025</td>\n",
       "      <td>Trading - Gas</td>\n",
       "      <td>Equity</td>\n",
       "      <td>Energy</td>\n",
       "      <td>Oil, Gas &amp; Consumable Fuels</td>\n",
       "      <td>Gas</td>\n",
       "      <td>Trading - Gas</td>\n",
       "    </tr>\n",
       "  </tbody>\n",
       "</table>\n",
       "</div>"
      ],
      "text/plain": [
       "   Security Code           Issuer Name Security Id         Security Name  Status Group  Face Value       ISIN No                    Industry Instrument  Sector Name            Industry New Name           Igroup Name              ISubgroup Name\n",
       "0         500002     ABB India Limited         ABB     ABB India Limited  Active    A          2.0  INE117A01022  Heavy Electrical Equipment     Equity  Industrials                Capital Goods  Electrical Equipment  Heavy Electrical Equipment\n",
       "1         500003  Aegis Logistics Ltd.    AEGISLOG  AEGIS LOGISTICS LTD.  Active    A          1.0  INE208C01025               Trading - Gas     Equity       Energy  Oil, Gas & Consumable Fuels                   Gas               Trading - Gas"
      ]
     },
     "execution_count": 1,
     "metadata": {},
     "output_type": "execute_result"
    }
   ],
   "source": [
    "import pandas as pd\n",
    "from bsedata.bse import BSE \n",
    "import time\n",
    "\n",
    "pd.set_option('display.max_rows', 500)\n",
    "pd.set_option('display.max_columns', 500)\n",
    "pd.set_option('display.width', 1000)\n",
    "\n",
    "excel_stocks = \"https://github.com/suhascp7/bse_py/raw/refs/heads/master/Equity.xlsx\"\n",
    "engine_excel = 'openpyxl'\n",
    "stockDf = pd.read_excel(excel_stocks,engine=engine_excel)\n",
    "stockDf.head(2)"
   ]
  },
  {
   "cell_type": "markdown",
   "metadata": {},
   "source": [
    "Getting nifty50, from the whole market "
   ]
  },
  {
   "cell_type": "code",
   "execution_count": 2,
   "metadata": {},
   "outputs": [],
   "source": [
    "listOf_Nifty50_Stocks = [ \n",
    "    \"ADANIENT\", \"ADANIPORTS\", \"APOLLOHOSP\", \"ASIANPAINT\", \"AXISBANK\",\n",
    "    \"BAJAJ-AUTO\", \"BAJFINANCE\", \"BAJAJFINSV\", \"BPCL\", \"BHARTIARTL\",\n",
    "    \"BRITANNIA\", \"CIPLA\", \"COALINDIA\", \"DIVISLAB\", \"DRREDDY\", \"EICHERMOT\",\n",
    "    \"GRASIM\", \"HCLTECH\", \"HDFCBANK\", \"HDFCLIFE\", \"HEROMOTOCO\", \"HINDALCO\",\n",
    "    \"HINDUNILVR\", \"ICICIBANK\", \"ITC\", \"INDUSINDBK\", \"INFY\", \"JSWSTEEL\",\n",
    "    \"KOTAKBANK\", \"LTIM\", \"LT\", \"M&M\", \"MARUTI\", \"NTPC\", \"NESTLEIND\",\n",
    "    \"ONGC\", \"POWERGRID\", \"RELIANCE\", \"SBILIFE\", \"SBIN\", \"SUNPHARMA\",\n",
    "    \"TCS\", \"TATACONSUM\", \"TATAMOTORS\", \"TATASTEEL\", \"TECHM\", \"TITAN\",\n",
    "    \"UPL\", \"ULTRACEMCO\", \"WIPRO\"\n",
    "]\n",
    "\n",
    "stockDf['Security Code']= stockDf['Security Code'].astype(str)\n",
    "nifty50 = stockDf[stockDf['Security Id'].isin(listOf_Nifty50_Stocks)].reset_index(drop=True)\n",
    "nifty50.columns = nifty50.columns.str.replace(' ', '')\n"
   ]
  },
  {
   "cell_type": "code",
   "execution_count": 3,
   "metadata": {},
   "outputs": [],
   "source": [
    "bseObject = BSE(update_codes=True) "
   ]
  },
  {
   "cell_type": "code",
   "execution_count": 4,
   "metadata": {},
   "outputs": [],
   "source": [
    "listof_stocksDict= []\n",
    "seqCode = nifty50['SecurityCode']\n",
    "for code in seqCode:\n",
    "    try:\n",
    "        dictStock = bseObject.getQuote(code)\n",
    "        dictStock.pop('sell')\n",
    "        dictStock.pop('buy')\n",
    "        listof_stocksDict.append(dictStock)\n",
    "    except IndexError:\n",
    "        print(f'IndexError for {code}, data not available')\n",
    "\n",
    "\n",
    "nifty50Today = pd.DataFrame(listof_stocksDict)"
   ]
  },
  {
   "cell_type": "code",
   "execution_count": null,
   "metadata": {},
   "outputs": [],
   "source": []
  }
 ],
 "metadata": {
  "kernelspec": {
   "display_name": "Python 3",
   "language": "python",
   "name": "python3"
  },
  "language_info": {
   "codemirror_mode": {
    "name": "ipython",
    "version": 3
   },
   "file_extension": ".py",
   "mimetype": "text/x-python",
   "name": "python",
   "nbconvert_exporter": "python",
   "pygments_lexer": "ipython3",
   "version": "3.10.1"
  }
 },
 "nbformat": 4,
 "nbformat_minor": 2
}
